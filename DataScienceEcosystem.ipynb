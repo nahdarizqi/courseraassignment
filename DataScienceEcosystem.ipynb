{
 "cells": [
  {
   "cell_type": "markdown",
   "id": "b0d11771",
   "metadata": {},
   "source": [
    "# Data Science Tools and Ecosystem"
   ]
  },
  {
   "cell_type": "markdown",
   "id": "84de99eb",
   "metadata": {},
   "source": [
    "In this notebook, Data Science Tools and Ecosystem are summarized."
   ]
  },
  {
   "cell_type": "markdown",
   "id": "de70d00c",
   "metadata": {},
   "source": [
    "## Objectives:\n",
    "\n",
    "- Phyton\n",
    "- C\n",
    "- R"
   ]
  },
  {
   "cell_type": "markdown",
   "id": "9c626f8f",
   "metadata": {},
   "source": [
    "some of the popular languages that Data Scientist use are:"
   ]
  },
  {
   "cell_type": "markdown",
   "id": "f1b43cbb",
   "metadata": {},
   "source": [
    "1. Phyton\n",
    "2. Pandas\n",
    "3. R"
   ]
  },
  {
   "cell_type": "markdown",
   "id": "fda099c6",
   "metadata": {},
   "source": [
    "Some of the commonly used libraries used by Data Scientists include:"
   ]
  },
  {
   "cell_type": "markdown",
   "id": "d3623ec0",
   "metadata": {},
   "source": [
    "1. GGplot\n",
    "2. GGally\n",
    "3. Dplyr"
   ]
  },
  {
   "cell_type": "markdown",
   "id": "afa09bb6",
   "metadata": {},
   "source": [
    "|Data Science Tools|\n",
    "|------------------|\n",
    "|Jupyter Notebook  |\n",
    "|Google Colab      |\n",
    "|Rstudio           |"
   ]
  },
  {
   "cell_type": "markdown",
   "id": "00d7fabd",
   "metadata": {},
   "source": [
    "### Below are a few examples of evaluating arithmetic expressions in Python"
   ]
  },
  {
   "cell_type": "code",
   "execution_count": 2,
   "id": "32786289",
   "metadata": {},
   "outputs": [
    {
     "name": "stdout",
     "output_type": "stream",
     "text": [
      "17\n"
     ]
    }
   ],
   "source": [
    "a = 3\n",
    "b = 4\n",
    "c = 5\n",
    "results = (a*b)+c\n",
    "print(results)"
   ]
  },
  {
   "cell_type": "code",
   "execution_count": 3,
   "id": "07ebfc59",
   "metadata": {},
   "outputs": [],
   "source": [
    "## This a simple arithmetic expression to mutiply then add integers"
   ]
  },
  {
   "cell_type": "code",
   "execution_count": 4,
   "id": "912dea96",
   "metadata": {},
   "outputs": [
    {
     "name": "stdout",
     "output_type": "stream",
     "text": [
      "3.3333333333333335\n"
     ]
    }
   ],
   "source": [
    "minutes = 200\n",
    "hours = minutes / 60\n",
    "\n",
    "print(hours)"
   ]
  },
  {
   "cell_type": "code",
   "execution_count": 5,
   "id": "ce9b5649",
   "metadata": {},
   "outputs": [],
   "source": [
    "## This will convert 200 minutes to hours by diving by 60"
   ]
  },
  {
   "cell_type": "markdown",
   "id": "3bc70d54",
   "metadata": {},
   "source": [
    "## Author\n",
    "\n",
    "Nahda"
   ]
  },
  {
   "cell_type": "code",
   "execution_count": null,
   "id": "24821a8f",
   "metadata": {},
   "outputs": [],
   "source": []
  }
 ],
 "metadata": {
  "kernelspec": {
   "display_name": "Python 3 (ipykernel)",
   "language": "python",
   "name": "python3"
  },
  "language_info": {
   "codemirror_mode": {
    "name": "ipython",
    "version": 3
   },
   "file_extension": ".py",
   "mimetype": "text/x-python",
   "name": "python",
   "nbconvert_exporter": "python",
   "pygments_lexer": "ipython3",
   "version": "3.10.9"
  }
 },
 "nbformat": 4,
 "nbformat_minor": 5
}
